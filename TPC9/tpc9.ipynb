{
 "cells": [
  {
   "cell_type": "markdown",
   "id": "54aab8be",
   "metadata": {},
   "source": [
    "# Word2Vec: Explorando o universo Harry Potter\n",
    "\n",
    "Neste notebook, vamos usar Word2Vec para explorar os livros Harry Potter."
   ]
  },
  {
   "cell_type": "code",
   "execution_count": 36,
   "id": "41c824fa",
   "metadata": {},
   "outputs": [],
   "source": [
    "from gensim.models import Word2Vec\n",
    "from gensim.utils import tokenize"
   ]
  },
  {
   "cell_type": "code",
   "execution_count": 37,
   "id": "eff5b6b1",
   "metadata": {},
   "outputs": [],
   "source": [
    "PATH = 'Harry_Potter_e_A_Pedra_Filosofal.txt'\n",
    "PATH2 = 'Harry_Potter_Camara_Secreta-br.txt'"
   ]
  },
  {
   "cell_type": "markdown",
   "id": "1829a45c",
   "metadata": {},
   "source": [
    "## Processamento do texto\n",
    "Leitura e tokenização dos livros Harry Potter."
   ]
  },
  {
   "cell_type": "code",
   "execution_count": 38,
   "id": "58a0d475",
   "metadata": {},
   "outputs": [],
   "source": [
    "f1 = open(PATH, 'r', encoding='utf-8')\n",
    "f2 = open(PATH2, 'r', encoding='utf-8')\n",
    "\n",
    "tokenized_text = []\n",
    "\n",
    "for line in f1:\n",
    "    tokens = list(tokenize(line, lower=True))\n",
    "    tokenized_text.append(tokens)\n",
    "\n",
    "for line in f2:\n",
    "    tokens = list(tokenize(line, lower=True))\n",
    "    tokenized_text.append(tokens)\n",
    "\n",
    "f2.close()\n",
    "f1.close()"
   ]
  },
  {
   "cell_type": "markdown",
   "id": "4a2328f0",
   "metadata": {},
   "source": [
    "## Treino do modelo Word2Vec"
   ]
  },
  {
   "cell_type": "code",
   "execution_count": 39,
   "id": "f6e0dd18",
   "metadata": {},
   "outputs": [],
   "source": [
    "model = Word2Vec(tokenized_text, vector_size=300, window=5, min_count=1, sg=1, epochs=20, workers=3)"
   ]
  },
  {
   "cell_type": "markdown",
   "id": "217788d8",
   "metadata": {},
   "source": [
    "## Vetores de palavras"
   ]
  },
  {
   "cell_type": "code",
   "execution_count": 40,
   "id": "a067e728",
   "metadata": {},
   "outputs": [
    {
     "data": {
      "text/plain": [
       "array([-0.00440246,  0.07821993,  0.0067384 , -0.05683101, -0.22365409,\n",
       "       -0.25693104,  0.01606804,  0.41307145, -0.2338572 ,  0.03118117,\n",
       "        0.11473543, -0.1539755 , -0.29720712,  0.2515262 , -0.32697436,\n",
       "       -0.10863198, -0.01163416,  0.26913258,  0.01350454, -0.13155156,\n",
       "       -0.07007811,  0.07349794, -0.28572112,  0.03696804, -0.32198468,\n",
       "        0.1469942 , -0.37499085,  0.33193845,  0.16281658, -0.38777474,\n",
       "        0.01361013, -0.07050829,  0.10827556,  0.00180364, -0.06888079,\n",
       "        0.10465875,  0.08329385, -0.40456262, -0.0942679 ,  0.12042005,\n",
       "        0.16751501, -0.00427381, -0.15848921,  0.1973884 ,  0.1924501 ,\n",
       "        0.2934377 , -0.16585536, -0.09036651,  0.06883671, -0.19456069,\n",
       "       -0.12176557,  0.04958861,  0.11320253,  0.2207377 , -0.16002785,\n",
       "        0.13514034,  0.03201407,  0.06788716,  0.40837082,  0.06988674,\n",
       "        0.10897117,  0.1158036 ,  0.10205454, -0.08662402,  0.00830259,\n",
       "       -0.17721751,  0.29048598,  0.00070026, -0.12156493,  0.09155674,\n",
       "       -0.13788408,  0.18705988,  0.33206165, -0.3594801 ,  0.2982716 ,\n",
       "       -0.06538176, -0.11199579, -0.28984064, -0.21449007, -0.05956863,\n",
       "       -0.12667494, -0.24755414,  0.0578883 ,  0.33058083,  0.17700757,\n",
       "        0.1279966 ,  0.24388729,  0.05910932,  0.24251622,  0.14760928,\n",
       "        0.14200193, -0.26806802, -0.19064693, -0.18929785, -0.01538668,\n",
       "        0.20516582,  0.11636502, -0.10706212,  0.23009343,  0.29229856,\n",
       "       -0.1876358 , -0.16382939,  0.11388693, -0.23410723,  0.06307171,\n",
       "       -0.00832161, -0.01099741,  0.05333845, -0.08624563, -0.00869616,\n",
       "        0.01098021, -0.12478667, -0.05971938,  0.3024303 , -0.06811528,\n",
       "       -0.08090876, -0.11824998,  0.20647833,  0.00804165, -0.30224964,\n",
       "        0.4555497 ,  0.13164136,  0.26202077, -0.14444983, -0.03911316,\n",
       "        0.32727236, -0.07514447, -0.4281946 ,  0.0166497 ,  0.2767298 ,\n",
       "        0.14344463, -0.10531642,  0.03539964, -0.25105026,  0.13008435,\n",
       "        0.26357582,  0.19960204,  0.08543135, -0.09216189, -0.21560006,\n",
       "        0.22330137, -0.35515067, -0.11379556,  0.07229488,  0.15472123,\n",
       "        0.11008901, -0.31055653, -0.02927437,  0.39141658, -0.1877856 ,\n",
       "       -0.08744051, -0.31324467, -0.07567803, -0.14219296,  0.14015709,\n",
       "        0.10851661, -0.12140128, -0.08508752, -0.20372972,  0.12307598,\n",
       "        0.02936736,  0.21611118, -0.0077361 ,  0.11654225,  0.25788662,\n",
       "       -0.08032784, -0.3251962 ,  0.24989305,  0.14624241, -0.03926288,\n",
       "        0.12695567,  0.12062784, -0.12616181,  0.14198387,  0.03861875,\n",
       "       -0.03478257,  0.03265958,  0.00965691,  0.09603429, -0.00696296,\n",
       "       -0.18444128, -0.02784798, -0.04449483, -0.06625967, -0.08049489,\n",
       "       -0.06201822, -0.20005995,  0.14046122,  0.00695718, -0.06822041,\n",
       "        0.45251128,  0.35415584, -0.02357635,  0.16279225, -0.13536137,\n",
       "       -0.0956753 ,  0.07254951,  0.02519111, -0.26957273, -0.01250378,\n",
       "        0.10252547,  0.2707903 ,  0.16251442, -0.18990849,  0.20389278,\n",
       "       -0.0700544 ,  0.04329378,  0.371886  , -0.27385083, -0.08952092,\n",
       "        0.06649542, -0.08399108,  0.05544728,  0.05659626,  0.16589665,\n",
       "       -0.09653788, -0.01010078, -0.449801  , -0.1338851 , -0.3123427 ,\n",
       "        0.07766239,  0.21041588, -0.12615648, -0.25172848, -0.02081285,\n",
       "       -0.0876051 , -0.08319348, -0.05804968,  0.01551943, -0.1896114 ,\n",
       "       -0.16856275,  0.09273437, -0.07698055, -0.22404131, -0.14178246,\n",
       "        0.07019167,  0.01356543,  0.19047406,  0.18136734, -0.11931267,\n",
       "        0.00871818, -0.18955174,  0.13486297,  0.1415209 , -0.06065558,\n",
       "       -0.4466817 ,  0.00483282, -0.1710173 ,  0.1661546 ,  0.03249305,\n",
       "        0.03380282,  0.36626187,  0.11865022, -0.2849816 ,  0.1474242 ,\n",
       "       -0.0541506 ,  0.25738695,  0.1441985 , -0.09699143, -0.32322723,\n",
       "       -0.05190369,  0.01785286, -0.01348826, -0.03993782, -0.1699842 ,\n",
       "        0.20719963,  0.2004915 ,  0.02511907,  0.05650954, -0.09074418,\n",
       "       -0.12030967, -0.22462606,  0.27423614,  0.33334833,  0.07923795,\n",
       "        0.28956708,  0.27348098,  0.16164094,  0.04942454,  0.07195247,\n",
       "       -0.01676717,  0.21265322,  0.19018188, -0.19393672,  0.04293467,\n",
       "        0.09827659,  0.18126914,  0.16430081,  0.2012209 ,  0.13670409,\n",
       "        0.41970626,  0.02665352,  0.21941732,  0.0587448 ,  0.23993191,\n",
       "        0.23790179, -0.05300989, -0.06143672, -0.0074551 , -0.20124191],\n",
       "      dtype=float32)"
      ]
     },
     "execution_count": 40,
     "metadata": {},
     "output_type": "execute_result"
    }
   ],
   "source": [
    "# Vetor para 'harry'\n",
    "model.wv['harry']"
   ]
  },
  {
   "cell_type": "markdown",
   "id": "c242f55f",
   "metadata": {},
   "source": [
    "## Palavras mais frequentes"
   ]
  },
  {
   "cell_type": "code",
   "execution_count": 41,
   "id": "d90e9826",
   "metadata": {},
   "outputs": [
    {
     "name": "stdout",
     "output_type": "stream",
     "text": [
      "['de', 'que', 'a', 'o', 'e', 'harry', 'se', 'não', 'para', 'um', 'uma', 'os', 'com', 'do', 'em', 'ele', 'da', 'disse', 'é', 'no']\n"
     ]
    }
   ],
   "source": [
    "# 20 palavras mais frequentes\n",
    "print(model.wv.index_to_key[:20])"
   ]
  },
  {
   "cell_type": "code",
   "execution_count": 42,
   "id": "fe77b435",
   "metadata": {},
   "outputs": [
    {
     "name": "stdout",
     "output_type": "stream",
     "text": [
      "['harry', 'disse', 'rony', 'hagrid', 'coisa', 'hermione', 'bem', 'cabeça', 'olhos', 'ter', 'dumbledore', 'vez', 'perguntou', 'então', 'vai', 'porta', 'agora', 'lo', 'snape', 'parecia']\n"
     ]
    }
   ],
   "source": [
    "# Palavras mais frequentes sem stopwords\n",
    "import nltk\n",
    "from nltk.corpus import stopwords\n",
    "\n",
    "try:\n",
    "    stopwords_pt = set(stopwords.words('portuguese'))\n",
    "except:\n",
    "    nltk.download('stopwords')\n",
    "    stopwords_pt = set(stopwords.words('portuguese'))\n",
    "\n",
    "top_words = model.wv.index_to_key[:100]\n",
    "top_words_no_stopwords = [w for w in top_words if w not in stopwords_pt]\n",
    "print(top_words_no_stopwords[:20])"
   ]
  },
  {
   "cell_type": "markdown",
   "id": "381d52a7",
   "metadata": {},
   "source": [
    "## Semelhanças entre palavras"
   ]
  },
  {
   "cell_type": "code",
   "execution_count": 43,
   "id": "83c61e9d",
   "metadata": {},
   "outputs": [
    {
     "data": {
      "text/plain": [
       "[('firenze', 0.5911874771118164),\n",
       " ('portão', 0.5721911787986755),\n",
       " ('desesperado', 0.5705267786979675),\n",
       " ('contava', 0.568355143070221),\n",
       " ('esguelha', 0.5683403015136719),\n",
       " ('sonolento', 0.5678215026855469),\n",
       " ('facilidade', 0.567290723323822),\n",
       " ('cantar', 0.566868007183075),\n",
       " ('mudando', 0.5666989088058472),\n",
       " ('excitado', 0.5664428472518921),\n",
       " ('abruptamente', 0.5649730563163757),\n",
       " ('hesitante', 0.5648330450057983),\n",
       " ('ansioso', 0.5647003054618835),\n",
       " ('desanimar', 0.5641317963600159),\n",
       " ('inclinando', 0.5593018531799316),\n",
       " ('nervoso', 0.5592485070228577),\n",
       " ('anão', 0.5589275360107422),\n",
       " ('tomado', 0.5583491325378418),\n",
       " ('pressuroso', 0.5582579374313354),\n",
       " ('horário', 0.5576625466346741),\n",
       " ('interessado', 0.5571871399879456),\n",
       " ('abaixando', 0.5570600032806396),\n",
       " ('esticando', 0.556616485118866),\n",
       " ('alegria', 0.5562441945075989),\n",
       " ('fixo', 0.5546718239784241),\n",
       " ('adeus', 0.5526602268218994),\n",
       " ('assustado', 0.5525630116462708),\n",
       " ('verso', 0.5524516701698303),\n",
       " ('pálidos', 0.5520342588424683),\n",
       " ('diminuiu', 0.5518732070922852)]"
      ]
     },
     "execution_count": 43,
     "metadata": {},
     "output_type": "execute_result"
    }
   ],
   "source": [
    "# Palavras mais semelhantes a 'harry'\n",
    "model.wv.most_similar('harry', topn=30)"
   ]
  },
  {
   "cell_type": "code",
   "execution_count": 44,
   "id": "2da46ca9",
   "metadata": {},
   "outputs": [
    {
     "name": "stdout",
     "output_type": "stream",
     "text": [
      "Mais semelhantes a 'hermione':\n",
      "  mione: 0.4695\n",
      "  granger: 0.4210\n",
      "  paciência: 0.4176\n",
      "  neville: 0.4111\n",
      "  berrador: 0.4111\n",
      "\n",
      "Mais semelhantes a 'harry':\n",
      "  firenze: 0.5912\n",
      "  portão: 0.5722\n",
      "  desesperado: 0.5705\n",
      "  contava: 0.5684\n",
      "  esguelha: 0.5683\n",
      "\n",
      "Mais semelhantes a 'dumbledore':\n",
      "  binns: 0.5441\n",
      "  quirrell: 0.5428\n",
      "  flitwick: 0.5301\n",
      "  alvo: 0.5216\n",
      "  atualmente: 0.5029\n",
      "\n",
      "Mais semelhantes a 'snape':\n",
      "  quirrell: 0.5941\n",
      "  flitwick: 0.5845\n",
      "  professor: 0.5603\n",
      "  aula: 0.4977\n",
      "  potentes: 0.4925\n",
      "\n",
      "Mais semelhantes a 'draco':\n",
      "  goyle: 0.6370\n",
      "  crabbe: 0.6242\n",
      "  risadinhas: 0.5859\n",
      "  rir: 0.5592\n",
      "  gabar: 0.5483\n",
      "\n"
     ]
    }
   ],
   "source": [
    "# Palavras semelhantes a vários personagens\n",
    "personagens = ['hermione', 'harry', 'dumbledore', 'snape', 'draco']\n",
    "\n",
    "for personagem in personagens:\n",
    "    print(f\"Mais semelhantes a '{personagem}':\")\n",
    "    similares = model.wv.most_similar(personagem, topn=5)\n",
    "    for palavra, similaridade in similares:\n",
    "        print(f\"  {palavra}: {similaridade:.4f}\")\n",
    "    print()"
   ]
  },
  {
   "cell_type": "code",
   "execution_count": 45,
   "id": "afd04f3f",
   "metadata": {},
   "outputs": [
    {
     "name": "stdout",
     "output_type": "stream",
     "text": [
      "Semelhança entre 'harry' e 'rony': 0.4426\n",
      "Semelhança entre 'harry' e 'hermione': 0.2224\n",
      "Semelhança entre 'harry' e 'dumbledore': 0.2247\n",
      "Semelhança entre 'harry' e 'snape': 0.2557\n",
      "Semelhança entre 'harry' e 'draco': 0.3292\n",
      "Semelhança entre 'grifinória' e 'sonserina': 0.6121\n"
     ]
    }
   ],
   "source": [
    "# Semelhança entre pares\n",
    "pares = [('harry', 'rony'), ('harry', 'hermione'), ('harry', 'dumbledore'), \n",
    "         ('harry', 'snape'), ('harry', 'draco'), ('grifinória', 'sonserina')]\n",
    "\n",
    "for w1, w2 in pares:\n",
    "    sim = model.wv.similarity(w1, w2)\n",
    "    print(f\"Semelhança entre '{w1}' e '{w2}': {sim:.4f}\")"
   ]
  },
  {
   "cell_type": "markdown",
   "id": "fc69a9c2",
   "metadata": {},
   "source": [
    "## Analogias"
   ]
  },
  {
   "cell_type": "code",
   "execution_count": 46,
   "id": "e267037d",
   "metadata": {},
   "outputs": [
    {
     "name": "stdout",
     "output_type": "stream",
     "text": [
      "Analogia: 'snape' + 'grifinória' - 'harry' = ?\n"
     ]
    },
    {
     "data": {
      "text/plain": [
       "[('comunal', 0.47455745935440063),\n",
       " ('poções', 0.46714839339256287),\n",
       " ('aula', 0.4647132456302643),\n",
       " ('pontos', 0.4285198748111725),\n",
       " ('sonserina', 0.42796841263771057),\n",
       " ('descontar', 0.4140985906124115),\n",
       " ('corvinal', 0.41406917572021484),\n",
       " ('lufa', 0.4059206247329712),\n",
       " ('sala', 0.3923766314983368),\n",
       " ('feitiços', 0.3884318172931671)]"
      ]
     },
     "execution_count": 46,
     "metadata": {},
     "output_type": "execute_result"
    }
   ],
   "source": [
    "print(\"Analogia: 'snape' + 'grifinória' - 'harry' = ?\")\n",
    "model.wv.most_similar(positive=['snape', 'grifinória'], negative=['harry'], topn=10)"
   ]
  },
  {
   "cell_type": "code",
   "execution_count": 47,
   "id": "476d71a6",
   "metadata": {},
   "outputs": [
    {
     "name": "stdout",
     "output_type": "stream",
     "text": [
      "Analogia: 'draco' + 'grifinória' - 'harry' = ?\n"
     ]
    },
    {
     "data": {
      "text/plain": [
       "[('pontos', 0.50263911485672),\n",
       " ('sonserina', 0.4965439736843109),\n",
       " ('membro', 0.4596730172634125),\n",
       " ('lufa', 0.4567239582538605),\n",
       " ('corvinal', 0.43965205550193787),\n",
       " ('johnson', 0.42129695415496826),\n",
       " ('angelina', 0.42056313157081604),\n",
       " ('concedo', 0.41369229555130005),\n",
       " ('liderança', 0.41096362471580505),\n",
       " ('ganhado', 0.40889957547187805)]"
      ]
     },
     "execution_count": 47,
     "metadata": {},
     "output_type": "execute_result"
    }
   ],
   "source": [
    "print(\"Analogia: 'draco' + 'grifinória' - 'harry' = ?\")\n",
    "model.wv.most_similar(positive=['draco', 'grifinória'], negative=['harry'], topn=10)"
   ]
  },
  {
   "cell_type": "code",
   "execution_count": 48,
   "id": "6553fd44",
   "metadata": {},
   "outputs": [
    {
     "name": "stdout",
     "output_type": "stream",
     "text": [
      "Analogia: 'sonserina' + 'harry' - 'draco' = ?\n"
     ]
    },
    {
     "data": {
      "text/plain": [
       "[('posse', 0.4771893322467804),\n",
       " ('rouba', 0.4707649052143097),\n",
       " ('marcos', 0.4687368869781494),\n",
       " ('grifinória', 0.46789926290512085),\n",
       " ('barulhenta', 0.4639602303504944)]"
      ]
     },
     "execution_count": 48,
     "metadata": {},
     "output_type": "execute_result"
    }
   ],
   "source": [
    "print(\"Analogia: 'sonserina' + 'harry' - 'draco' = ?\")\n",
    "model.wv.most_similar(positive=['sonserina', 'harry'], negative=['draco'], topn=5)"
   ]
  },
  {
   "cell_type": "code",
   "execution_count": 49,
   "id": "bcfe6cdc",
   "metadata": {},
   "outputs": [
    {
     "name": "stdout",
     "output_type": "stream",
     "text": [
      "Analogia: 'hermione' + 'menino' - 'menina' = ?\n"
     ]
    },
    {
     "data": {
      "text/plain": [
       "[('neville', 0.3548643887042999),\n",
       " ('parar', 0.35225623846054077),\n",
       " ('pare', 0.3398769199848175),\n",
       " ('presas', 0.33147701621055603),\n",
       " ('fôlego', 0.3195411264896393)]"
      ]
     },
     "execution_count": 49,
     "metadata": {},
     "output_type": "execute_result"
    }
   ],
   "source": [
    "print(\"Analogia: 'hermione' + 'menino' - 'menina' = ?\")\n",
    "model.wv.most_similar(positive=['hermione', 'menino'], negative=['menina'], topn=5)"
   ]
  },
  {
   "cell_type": "markdown",
   "id": "9ede2de5",
   "metadata": {},
   "source": [
    "## Deteção de intrusos"
   ]
  },
  {
   "cell_type": "code",
   "execution_count": 50,
   "id": "3ba89bb1",
   "metadata": {},
   "outputs": [
    {
     "name": "stdout",
     "output_type": "stream",
     "text": [
      "Grupo: ['harry', 'rony', 'hermione', 'draco']\n",
      "Intruso: hermione\n",
      "\n",
      "Grupo: ['grifinória', 'sonserina', 'lufa-lufa', 'corvinal', 'hogwarts']\n",
      "Intruso: hogwarts\n",
      "\n",
      "Grupo: ['quadribol', 'poções', 'transfiguração', 'defesa', 'feitiços']\n",
      "Intruso: quadribol\n",
      "\n",
      "Grupo: ['varinha', 'vassoura', 'coruja', 'livro', 'sapo']\n",
      "Intruso: livro\n",
      "\n"
     ]
    }
   ],
   "source": [
    "# Detetar intrusos em grupos\n",
    "grupos = [\n",
    "    ['harry', 'rony', 'hermione', 'draco'],\n",
    "    ['grifinória', 'sonserina', 'lufa-lufa', 'corvinal', 'hogwarts'],\n",
    "    ['quadribol', 'poções', 'transfiguração', 'defesa', 'feitiços'],\n",
    "    ['varinha', 'vassoura', 'coruja', 'livro', 'sapo']\n",
    "]\n",
    "\n",
    "for grupo in grupos:\n",
    "    intruso = model.wv.doesnt_match(grupo)\n",
    "    print(f\"Grupo: {grupo}\")\n",
    "    print(f\"Intruso: {intruso}\\n\")"
   ]
  },
  {
   "cell_type": "code",
   "execution_count": 51,
   "id": "1d52541f",
   "metadata": {},
   "outputs": [
    {
     "data": {
      "text/plain": [
       "'hagrid'"
      ]
     },
     "execution_count": 51,
     "metadata": {},
     "output_type": "execute_result"
    }
   ],
   "source": [
    "model.wv.doesnt_match(['quadribol','hagrid', 'sonserina', 'lufa', 'grifinória', 'corvinal'])"
   ]
  },
  {
   "cell_type": "markdown",
   "id": "a264d165",
   "metadata": {},
   "source": [
    "## Visualização com PCA"
   ]
  },
  {
   "cell_type": "code",
   "execution_count": 52,
   "id": "42a2a4d1",
   "metadata": {},
   "outputs": [
    {
     "data": {
      "image/png": "[encoded data removed]",
      "text/plain": [
       "<Figure size 1200x800 with 1 Axes>"
      ]
     },
     "metadata": {},
     "output_type": "display_data"
    }
   ],
   "source": [
    "from sklearn.decomposition import PCA\n",
    "import matplotlib.pyplot as plt\n",
    "\n",
    "# Dados para visualização\n",
    "harry_potter_words = ['harry', 'rony', 'hermione', 'dumbledore', 'voldemort', 'snape', 'draco', \n",
    "                      'hagrid', 'gina', 'neville', 'hogwarts', 'grifinória', 'sonserina', \n",
    "                      'lufa-lufa', 'corvinal', 'hogsmeade', 'ministério', 'plataforma', \n",
    "                      'quadribol', 'varinha', 'vassoura', 'coruja', 'feitiço', 'poção', \n",
    "                      'profeta', 'trouxa']\n",
    "\n",
    "# Filtrar palavras existentes no vocabulário\n",
    "palavras_para_plot = [palavra for palavra in harry_potter_words if palavra in model.wv.key_to_index]\n",
    "vetores = [model.wv[palavra] for palavra in palavras_para_plot]\n",
    "\n",
    "# PCA para redução de dimensionalidade\n",
    "pca = PCA(n_components=2)\n",
    "resultado_2d = pca.fit_transform(vetores)\n",
    "\n",
    "plt.figure(figsize=(12, 8))\n",
    "plt.scatter(resultado_2d[:, 0], resultado_2d[:, 1], color='blue')\n",
    "\n",
    "# Adicionar rótulos\n",
    "for i, palavra in enumerate(palavras_para_plot):\n",
    "    plt.annotate(palavra, xy=(resultado_2d[i, 0], resultado_2d[i, 1]), fontsize=12)\n",
    "\n",
    "plt.title('Visualização 2D do Universo Harry Potter usando PCA', fontsize=14)\n",
    "plt.grid(True)\n",
    "plt.show()"
   ]
  },
  {
   "cell_type": "markdown",
   "id": "30e0d2da",
   "metadata": {},
   "source": [
    "## Visualização de personagens"
   ]
  },
  {
   "cell_type": "code",
   "execution_count": 53,
   "id": "f45246f2",
   "metadata": {},
   "outputs": [
    {
     "data": {
      "image/png": "[encoded data removed]",
      "text/plain": [
       "<Figure size 1000x600 with 1 Axes>"
      ]
     },
     "metadata": {},
     "output_type": "display_data"
    }
   ],
   "source": [
    "# Personagens\n",
    "personagens = ['harry', 'rony', 'hermione', 'dumbledore', 'voldemort', 'snape', 'draco', \n",
    "              'hagrid', 'gina', 'neville']\n",
    "\n",
    "personagens_filtrados = [p for p in personagens if p in model.wv.key_to_index]\n",
    "vetores_personagens = [model.wv[p] for p in personagens_filtrados]\n",
    "\n",
    "pca = PCA(n_components=2)\n",
    "resultado_personagens_2d = pca.fit_transform(vetores_personagens)\n",
    "\n",
    "plt.figure(figsize=(10, 6))\n",
    "plt.scatter(resultado_personagens_2d[:, 0], resultado_personagens_2d[:, 1], color='red')\n",
    "\n",
    "for i, personagem in enumerate(personagens_filtrados):\n",
    "    plt.annotate(personagem, xy=(resultado_personagens_2d[i, 0], resultado_personagens_2d[i, 1]), fontsize=12)\n",
    "\n",
    "plt.title('Visualização 2D dos Personagens de Harry Potter', fontsize=14)\n",
    "plt.grid(True)\n",
    "plt.show()"
   ]
  },
  {
   "cell_type": "markdown",
   "id": "8ecb9f47",
   "metadata": {},
   "source": [
    "## Visualização de lugares"
   ]
  },
  {
   "cell_type": "code",
   "execution_count": 54,
   "id": "63c55814",
   "metadata": {},
   "outputs": [
    {
     "data": {
      "image/png": "[encoded data removed]",
      "text/plain": [
       "<Figure size 1000x600 with 1 Axes>"
      ]
     },
     "metadata": {},
     "output_type": "display_data"
    }
   ],
   "source": [
    "# Lugares\n",
    "lugares = ['hogwarts', 'grifinória', 'sonserina', 'lufa-lufa', 'corvinal', 'hogsmeade', \n",
    "          'ministério', 'plataforma']\n",
    "\n",
    "lugares_filtrados = [l for l in lugares if l in model.wv.key_to_index]\n",
    "vetores_lugares = [model.wv[l] for l in lugares_filtrados]\n",
    "\n",
    "pca = PCA(n_components=2)\n",
    "resultado_lugares_2d = pca.fit_transform(vetores_lugares)\n",
    "\n",
    "plt.figure(figsize=(10, 6))\n",
    "plt.scatter(resultado_lugares_2d[:, 0], resultado_lugares_2d[:, 1], color='green')\n",
    "\n",
    "for i, lugar in enumerate(lugares_filtrados):\n",
    "    plt.annotate(lugar, xy=(resultado_lugares_2d[i, 0], resultado_lugares_2d[i, 1]), fontsize=12)\n",
    "\n",
    "plt.title('Visualização 2D dos Lugares de Harry Potter', fontsize=14)\n",
    "plt.grid(True)\n",
    "plt.show()"
   ]
  },
  {
   "cell_type": "markdown",
   "id": "a1895de8",
   "metadata": {},
   "source": [
    "## Guardar modelo para uso futuro"
   ]
  },
  {
   "cell_type": "code",
   "execution_count": 55,
   "id": "4a13cc35",
   "metadata": {},
   "outputs": [],
   "source": [
    "model.wv.save_word2vec_format('model.txt', binary=False)"
   ]
  },
  {
   "cell_type": "markdown",
   "id": "adad949c",
   "metadata": {},
   "source": [
    "## Visualização externa\n",
    "\n",
    "Para visualizar os embeddings com o TensorFlow Projector:\n",
    "\n",
    "1. Execute o comando para converter para o formato TensorFlow:\n",
    "```\n",
    "python -m gensim.scripts.word2vec2tensor --input model.txt --output model\n",
    "```\n",
    "\n",
    "2. Aceda ao site: https://projector.tensorflow.org/\n",
    "\n",
    "3. Carregue os ficheiros gerados para explorar os embeddings."
   ]
  }
 ],
 "metadata": {
  "kernelspec": {
   "display_name": "PLN",
   "language": "python",
   "name": "python3"
  },
  "language_info": {
   "codemirror_mode": {
    "name": "ipython",
    "version": 3
   },
   "file_extension": ".py",
   "mimetype": "text/x-python",
   "name": "python",
   "nbconvert_exporter": "python",
   "pygments_lexer": "ipython3",
   "version": "3.10.9"
  }
 },
 "nbformat": 4,
 "nbformat_minor": 5
}
