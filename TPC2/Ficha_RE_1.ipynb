{
 "nbformat": 4,
 "nbformat_minor": 0,
 "metadata": {
  "colab": {
   "provenance": [],
   "toc_visible": true
  },
  "kernelspec": {
   "name": "python3",
   "display_name": "Python 3 (ipykernel)",
   "language": "python"
  },
  "language_info": {
   "name": "python"
  }
 },
 "cells": [
  {
   "cell_type": "markdown",
   "source": [
    "# Ficha de Expressões Regulares 1"
   ],
   "metadata": {
    "id": "oVaAea-wCM6H"
   }
  },
  {
   "cell_type": "markdown",
   "source": [
    "### Conceitos básicos de expressões regulares\n",
    "\n",
    "- `a` - corresponde a uma ocorrência do caracter `a`.\n",
    "- `a?` - corresponde a 0 ou 1 ocorrências do caracter `a`.\n",
    "- `a+` - corresponde a 1 ou mais ocorrências do caracter `a`.\n",
    "- `a*` - corresponde a 0 ou mais ocorrências do caracter `a`.\n",
    "- `[abc]` - corresponde a uma ocorrência de um dos caracteres `a`, `b` ou `c`.\n",
    "- `[a-z]` - corresponde a uma ocorrência de um caracter entre `a` e `z`.\n",
    "- `^` - corresponde ao início da string.\n",
    "- `$` - corresponde ao fim da string.\n",
    "- `[^abc]` - corresponde a uma ocorrência de qualquer caracter que não seja `a`, `b` ou `c`.\n",
    "\n",
    "Podemos usar o operador de união para unir várias expressões regulares. Por exemplo: `a|bbb|[^a-z]`, que corresponde a uma das várias (neste caso, 3) expressões regulares que fazem parte da união.\n",
    "\n",
    "Podemos simplificar expressões regulares como `bbb` para `b{3}`, ou seja, 3 ocorrências consecutivas do caracter `b`, neste caso. Outras opções incluem `b{3,}` para 3 ou mais ocorrências ou `b{3,6}` para entre 3 a 6 ocorrências, por exemplo.\n",
    "\n",
    "Para formar grupos de expressões regulares, usamos parênteses. Por exemplo: `((abc)*|[0-9]+)?`. Os operadores após um grupo atuam sobre o grupo.\n",
    "\n",
    "Podemos ainda aplicar modificadores a grupos. Por exemplo, `(?i:teste)` corresponde à expressão \"teste\", escrita com qualquer combinação de maiúsculas e minúsculas (e.g., \"TESTE\", \"tEsTe\", \"TEste\", etc.)."
   ],
   "metadata": {
    "id": "gk5jnHXt9t4y"
   }
  },
  {
   "metadata": {
    "ExecuteTime": {
     "end_time": "2025-02-23T17:20:58.783379Z",
     "start_time": "2025-02-23T17:20:58.773477Z"
    }
   },
   "cell_type": "code",
   "source": "import re",
   "outputs": [],
   "execution_count": 2
  },
  {
   "cell_type": "markdown",
   "source": [
    "## Exercício 1"
   ],
   "metadata": {
    "id": "yDRt0yOgJ-TW"
   }
  },
  {
   "cell_type": "markdown",
   "source": [
    "### Alínea 1.1\n",
    "\n",
    "Dada uma linha de texto, define um programa que determina se a palavra \"hello\" aparece no início da linha.\n",
    "\n",
    "Conceitos importantes para este exercício:\n",
    "\n",
    "- `re.match(pattern, string[, flags])` - analisa a `string` e tenta encontrar uma correspondência para a expressão regular `pattern` a partir do início da string. Devolve `None` se não encontrar nenhuma correspondência.\n",
    "- `r\"\"` - string correspondente a uma expressão regular."
   ],
   "metadata": {
    "id": "gI05knhniDCr"
   }
  },
  {
   "cell_type": "code",
   "metadata": {
    "id": "ufl-7TGph9WH",
    "ExecuteTime": {
     "end_time": "2025-02-23T17:22:08.094023Z",
     "start_time": "2025-02-23T17:22:08.074958Z"
    }
   },
   "source": [
    "line1 = \"hello world\"\n",
    "line2 = \"goodbye world\"\n",
    "line3 = \"hi, hello there\"\n",
    "\n",
    "def helloStart(pattern, s):\n",
    "    return True if re.match(rf\"{pattern}\", s) else False\n",
    "\n",
    "print(\"Starts with 'hello': \" + str(helloStart(\"^hello\", line1)))\n",
    "print(\"Starts with 'hello': \" + str(helloStart(\"^hello\", line2)))\n",
    "print(\"Starts with 'hello': \" + str(helloStart(\"^hello\", line3)))"
   ],
   "outputs": [
    {
     "name": "stdout",
     "output_type": "stream",
     "text": [
      "Starts with 'hello': True\n",
      "Starts with 'hello': False\n",
      "Starts with 'hello': False\n"
     ]
    }
   ],
   "execution_count": 4
  },
  {
   "cell_type": "markdown",
   "source": [
    "### Alínea 1.2\n",
    "\n",
    "Dada uma linha de texto, define um programa que determina se a palavra \"hello\" aparece em qualquer posição da linha.\n",
    "\n",
    "Conceitos importantes para este exercício:\n",
    "\n",
    "- `re.search(pattern, string[, flags])` - analisa a `string` e tenta encontrar uma correspondência para a expressão regular `pattern` em qualquer posição da string. Devolve `None` se não encontrar nenhuma correspondência."
   ],
   "metadata": {
    "id": "gzgOACqiJ7VN"
   }
  },
  {
   "cell_type": "code",
   "metadata": {
    "id": "TM-qMl-yJ7VS",
    "ExecuteTime": {
     "end_time": "2025-02-23T16:29:37.737763Z",
     "start_time": "2025-02-23T16:29:37.721861Z"
    }
   },
   "source": [
    "line1 = \"hello world\"\n",
    "line2 = \"goodbye world\"\n",
    "line3 = \"hi, hello there\"\n",
    "\n",
    "def hasHello(pattern, s):\n",
    "    return True if re.search(rf\"{pattern}\", s) else False\n",
    "\n",
    "print(\"Has 'hello': \" + str(hasHello(\"hello\", line1)))\n",
    "print(\"Has 'hello': \" + str(hasHello(\"hello\", line2)))\n",
    "print(\"Has 'hello': \" + str(hasHello(\"hello\", line3)))"
   ],
   "outputs": [
    {
     "name": "stdout",
     "output_type": "stream",
     "text": [
      "Starts with 'hello': True\n",
      "Starts with 'hello': False\n",
      "Starts with 'hello': True\n"
     ]
    }
   ],
   "execution_count": 4
  },
  {
   "cell_type": "markdown",
   "source": [
    "### Alínea 1.3\n",
    "\n",
    "Dada uma linha de texto, define um programa que pesquisa por todas as ocorrências da palavra \"hello\" dentro da linha, admitindo que a palavra seja escrita com maiúsculas ou minúsculas.\n",
    "\n",
    "Conceitos importantes para este exercício:\n",
    "\n",
    "- `re.findall(pattern, string[, flags])` - encontra todas as correspondências que não se sobreponham da expressão regular `pattern` na `string`. Devolve uma lista."
   ],
   "metadata": {
    "id": "6ZE7klswOy90"
   }
  },
  {
   "cell_type": "code",
   "source": [
    "line = \"Hello there! Uh, hi, hello, it's me... Heyyy, hello? HELLO!\"\n",
    "\n",
    "def findHello(pattern, s):\n",
    "    return re.findall(rf\"{pattern}\", s, re.IGNORECASE)\n",
    "\n",
    "print(\"All 'hello': \" + str(findHello(\"hello\", line)))"
   ],
   "metadata": {
    "id": "aHB_l7g5OzNY",
    "ExecuteTime": {
     "end_time": "2025-02-23T16:38:21.792308Z",
     "start_time": "2025-02-23T16:38:21.775685Z"
    }
   },
   "outputs": [
    {
     "name": "stdout",
     "output_type": "stream",
     "text": [
      "All 'hello': ['Hello', 'hello', 'hello', 'HELLO']\n"
     ]
    }
   ],
   "execution_count": 10
  },
  {
   "cell_type": "markdown",
   "source": [
    "### Alínea 1.4\n",
    "\n",
    "Dada uma linha de texto, define um programa que pesquisa por todas as ocorrências da palavra \"hello\" dentro da linha, substituindo cada uma por \"\\*YEP\\*\".\n",
    "\n",
    "Conceitos importantes para este exercício:\n",
    "\n",
    "- `re.sub(pattern, replacement, string, count = 0, flags = 0)` - substitui todas as correspondências da expressão regular `pattern` na `string` por `replacement`. `replacement` pode ser uma string, uma expressão regular ou uma função que recebe uma correspondência e devolve uma string. O parâmetro `count` determina o limite de substituições (por defeito é 0, ou seja, não há limite)."
   ],
   "metadata": {
    "id": "TSwUj26OPRmP"
   }
  },
  {
   "cell_type": "code",
   "source": [
    "line = \"Hello there! Uh, hi, hello, it's me... Heyyy, hello? HELLO!\"\n",
    "\n",
    "def subHello(pattern, sub, s):\n",
    "    return re.sub(rf\"{pattern}\", sub, s, flags = re.IGNORECASE)\n",
    "\n",
    "print(\"Replace all 'hello' with '*YEP*': \" + str(subHello(\"hello\", \"*YEP*\", line)))"
   ],
   "metadata": {
    "id": "SXLK2rhMPf11",
    "ExecuteTime": {
     "end_time": "2025-02-23T16:39:38.307644Z",
     "start_time": "2025-02-23T16:39:38.300620Z"
    }
   },
   "outputs": [
    {
     "name": "stdout",
     "output_type": "stream",
     "text": [
      "Replace all 'hello' with '*YEP*': *YEP* there! Uh, hi, *YEP*, it's me... Heyyy, *YEP*? *YEP*!\n"
     ]
    }
   ],
   "execution_count": 13
  },
  {
   "cell_type": "markdown",
   "source": [
    "### Alínea 1.5\n",
    "\n",
    "Dada uma linha de texto, define um programa que pesquisa por todas as ocorrências do caracter vírgula, separando cada parte da linha por esse caracter.\n",
    "\n",
    "Conceitos importantes para este exercício:\n",
    "\n",
    "- `re.split(pattern, string, maxsplit = 0, flags = 0)` - divide a `string` com base nas correspondências da expressão regular `pattern`. O parâmetro `maxsplit` pode ser usado para definir um limite de divisões (por defeito é 0, que corresponde a divisões infinitas)."
   ],
   "metadata": {
    "id": "MrgsEzJCPgbO"
   }
  },
  {
   "cell_type": "code",
   "source": [
    "line = \"bananas, laranjas, maçãs, uvas, melancias, cerejas, kiwis, etc.\"\n",
    "\n",
    "def slitByComma(pattern, s):\n",
    "    return re.split(rf\"{pattern}\", s)\n",
    "\n",
    "print(\"Sring split by ',': \" + str(slitByComma(\",\", line)))"
   ],
   "metadata": {
    "id": "vrwiid6XPgvg",
    "ExecuteTime": {
     "end_time": "2025-02-23T16:41:13.216814Z",
     "start_time": "2025-02-23T16:41:13.201762Z"
    }
   },
   "outputs": [
    {
     "name": "stdout",
     "output_type": "stream",
     "text": [
      "Sring split by ',': ['bananas', ' laranjas', ' maçãs', ' uvas', ' melancias', ' cerejas', ' kiwis', ' etc.']\n"
     ]
    }
   ],
   "execution_count": 14
  },
  {
   "cell_type": "markdown",
   "source": [
    "## Exercício 2\n",
    "\n",
    "Define a função `palavra_magica` que recebe uma frase e determina se a mesma termina com a expressão \"por favor\", seguida de um sinal válido de pontuação."
   ],
   "metadata": {
    "id": "6QP0erT4iSzE"
   }
  },
  {
   "cell_type": "code",
   "source": [
    "def palavra_magica(frase):\n",
    "  return True if re.search(r'\\bpor favor(\\?|\\.{1,3}|!\\?)$', frase, re.IGNORECASE) else False\n",
    "\n",
    "print(palavra_magica(\"Posso ir à casa de banho, por favor?\"))\n",
    "print(palavra_magica(\"Preciso de um favor.\"))"
   ],
   "metadata": {
    "id": "MhCC49z7jU7n",
    "ExecuteTime": {
     "end_time": "2025-02-23T16:43:35.902297Z",
     "start_time": "2025-02-23T16:43:35.893266Z"
    }
   },
   "outputs": [
    {
     "name": "stdout",
     "output_type": "stream",
     "text": [
      "True\n",
      "False\n"
     ]
    }
   ],
   "execution_count": 18
  },
  {
   "cell_type": "markdown",
   "source": [
    "## Exercício 3\n",
    "\n",
    "Define a função `narcissismo` que calcula quantas vezes a palavra \"eu\" aparece numa string."
   ],
   "metadata": {
    "id": "L71wvPCujpBD"
   }
  },
  {
   "cell_type": "code",
   "source": [
    "def narcissismo(linha):\n",
    "  return len(re.findall(r'\\beu\\b', linha, re.IGNORECASE))\n",
    "\n",
    "print(narcissismo(\"Eu não sei se eu quero continuar a ser eu. Por outro lado, eu ser eu é uma parte importante de quem EU sou.\"))"
   ],
   "metadata": {
    "id": "0HxFCow5nOj8",
    "ExecuteTime": {
     "end_time": "2025-02-23T16:44:39.606158Z",
     "start_time": "2025-02-23T16:44:39.592110Z"
    }
   },
   "outputs": [
    {
     "name": "stdout",
     "output_type": "stream",
     "text": [
      "6\n"
     ]
    }
   ],
   "execution_count": 20
  },
  {
   "cell_type": "markdown",
   "source": [
    "## Exercício 4\n",
    "\n",
    "Define a função `troca_de_curso` que substitui todas as ocorrências de \"LEI\" numa linha pelo nome do curso dado à função."
   ],
   "metadata": {
    "id": "EKETfRaOolO4"
   }
  },
  {
   "cell_type": "code",
   "source": [
    "def troca_de_curso(linha, novo_curso):\n",
    "  return re.sub(rf'\\bLEI\\b', novo_curso, linha)\n",
    "\n",
    "print(troca_de_curso(\"LEI é o melhor curso! Adoro LEI! Gostar de LEI devia ser uma lei.\", 'LEBiom'))"
   ],
   "metadata": {
    "id": "8ZVPMxfZpRrx",
    "ExecuteTime": {
     "end_time": "2025-02-23T17:37:51.869140Z",
     "start_time": "2025-02-23T17:37:51.867134Z"
    }
   },
   "outputs": [
    {
     "name": "stdout",
     "output_type": "stream",
     "text": [
      "LEBiom é o melhor curso! Adoro LEBiom! Gostar de LEBiom devia ser uma lei.\n"
     ]
    }
   ],
   "execution_count": 5
  },
  {
   "cell_type": "markdown",
   "source": [
    "## Exercício 5\n",
    "\n",
    "Define a função `soma_string` que recebe uma string com vários números separados por uma vírgula (e.g., \"1,2,3,4,5\") e devolve a soma destes números."
   ],
   "metadata": {
    "id": "GZKMkTKcp886"
   }
  },
  {
   "cell_type": "code",
   "source": [
    "def soma_string(linha):\n",
    "  return sum(int(x) for x in re.split(\",\", linha))\n",
    "\n",
    "print(soma_string(\"4,-6,2,3,8,-3,0,2,-5,1\"))"
   ],
   "metadata": {
    "id": "ExqmZwj_rzuR",
    "ExecuteTime": {
     "end_time": "2025-02-23T16:48:11.846448Z",
     "start_time": "2025-02-23T16:48:11.833402Z"
    }
   },
   "outputs": [
    {
     "name": "stdout",
     "output_type": "stream",
     "text": [
      "6\n"
     ]
    }
   ],
   "execution_count": 23
  },
  {
   "cell_type": "markdown",
   "source": [
    "## Exercício 6\n",
    "\n",
    "Define a função `pronomes` que encontra e devolve todos os pronomes pessoais presentes numa frase, i.e., \"eu\", \"tu\", \"ele\", \"ela\", etc., com atenção para letras maiúsculas ou minúsculas."
   ],
   "metadata": {
    "id": "n49iafoNzw-3"
   }
  },
  {
   "cell_type": "code",
   "source": [
    "def pronomes(frase):\n",
    "    return re.findall(r\"\\b(eu|tu|el[ea]|nós|vós|el[ea]s)\\b\", frase, re.IGNORECASE)\n",
    "\n",
    "print(pronomes(\"EU e TU vamos ao parque, enquanto ELE e ela preferem ficar em casa; NÓS tentamos convencê-los, mas vós e ELES não quiseram mudar de ideia, e ELAS apenas observaram.\"))"
   ],
   "metadata": {
    "id": "RnuCrz2H0DWq",
    "ExecuteTime": {
     "end_time": "2025-02-23T16:52:22.293506Z",
     "start_time": "2025-02-23T16:52:22.290496Z"
    }
   },
   "outputs": [
    {
     "name": "stdout",
     "output_type": "stream",
     "text": [
      "['EU', 'TU', 'ELE', 'ela', 'NÓS', 'vós', 'ELES', 'ELAS']\n"
     ]
    }
   ],
   "execution_count": 24
  },
  {
   "cell_type": "markdown",
   "source": [
    "## Exercício 7\n",
    "\n",
    "Define a função `variavel_valida` que recebe uma string e determina se a mesma é um nome válido para uma variável, ou seja, se começa por uma letra e apenas contém letras, números ou *underscores*."
   ],
   "metadata": {
    "id": "BHMk88OQ0XFY"
   }
  },
  {
   "cell_type": "code",
   "source": [
    "def variavel_valida(frase):\n",
    "    res = re.search(r\"^[a-z]\\w*$\", frase, re.IGNORECASE)\n",
    "    if res:\n",
    "        if res.group() == frase:\n",
    "            return True\n",
    "    return False\n",
    "\n",
    "print(variavel_valida('variavel_teste1'))\n",
    "print(variavel_valida('variavel_teste1%'))\n",
    "print(variavel_valida('_variavel_teste1'))"
   ],
   "metadata": {
    "id": "YTQW91Ws1WLx",
    "ExecuteTime": {
     "end_time": "2025-02-23T17:02:24.216374Z",
     "start_time": "2025-02-23T17:02:24.203330Z"
    }
   },
   "outputs": [
    {
     "name": "stdout",
     "output_type": "stream",
     "text": [
      "True\n",
      "False\n",
      "False\n"
     ]
    }
   ],
   "execution_count": 39
  },
  {
   "cell_type": "markdown",
   "source": [
    "## Exercício 8\n",
    "\n",
    "Define a função `inteiros` que devolve todos os números inteiros presentes numa string. Um número inteiro pode conter um ou mais dígitos e pode ser positivo ou negativo."
   ],
   "metadata": {
    "id": "ZRWbgkMM5qzx"
   }
  },
  {
   "cell_type": "code",
   "source": [
    "def inteiros(frase):\n",
    "    return re.findall(r\"-?\\d+\", frase)\n",
    "\n",
    "print(inteiros(\"-1231 132131 2 -2 a2\"))"
   ],
   "metadata": {
    "id": "jsmiEi6gA7vh",
    "ExecuteTime": {
     "end_time": "2025-02-23T17:07:18.905747Z",
     "start_time": "2025-02-23T17:07:18.892702Z"
    }
   },
   "outputs": [
    {
     "name": "stdout",
     "output_type": "stream",
     "text": [
      "['-1231', '132131', '2', '-2', '2']\n"
     ]
    }
   ],
   "execution_count": 46
  },
  {
   "cell_type": "markdown",
   "source": [
    "## Exercício 9\n",
    "\n",
    "Define a função `underscores` que substitui todos os espaços numa string por *underscores*. Se aparecerem vários espaços seguidos, devem ser substituídos por apenas um *underscore*."
   ],
   "metadata": {
    "id": "QhpGhtBT7aD3"
   }
  },
  {
   "cell_type": "code",
   "source": [
    "def underscores(frase):\n",
    "    return re.sub(r\"\\s+\", r\"_\", frase)\n",
    "\n",
    "print(underscores(\"Eu e tu vamos ao parque, enquanto ele e ela preferem ficar em casa; nós tentamos convencê-los, mas vós e eles não quiseram mudar de ideia, e elas apenas observaram.\"))\n",
    "print(underscores(\"Eu e tu vamos            ao parque\"))"
   ],
   "metadata": {
    "id": "1YTIkZT-6Ase",
    "ExecuteTime": {
     "end_time": "2025-02-23T17:09:26.125047Z",
     "start_time": "2025-02-23T17:09:26.112002Z"
    }
   },
   "outputs": [
    {
     "name": "stdout",
     "output_type": "stream",
     "text": [
      "Eu_e_tu_vamos_ao_parque,_enquanto_ele_e_ela_preferem_ficar_em_casa;_nós_tentamos_convencê-los,_mas_vós_e_eles_não_quiseram_mudar_de_ideia,_e_elas_apenas_observaram.\n",
      "Eu_e_tu_vamos_ao_parque\n"
     ]
    }
   ],
   "execution_count": 49
  },
  {
   "cell_type": "markdown",
   "source": [
    "## Exercício 10\n",
    "\n",
    "Define a função `codigos_postais` que recebe uma lista de códigos postais válidos e divide-os com base no hífen. A função deve devolver uma lista de pares."
   ],
   "metadata": {
    "id": "xcUrRlIy8uof"
   }
  },
  {
   "cell_type": "code",
   "source": [
    "lista = [\n",
    "    \"4700-000\",\n",
    "    \"1234-567\",\n",
    "    \"8541-543\",\n",
    "    \"4123-974\",\n",
    "    \"9481-025\"\n",
    "]\n",
    "\n",
    "def codigos_postais(lista):\n",
    "    return [tuple(re.split(r\"-\", x)) for x in lista]\n",
    "\n",
    "print(codigos_postais(lista))"
   ],
   "metadata": {
    "id": "6xj01Oy09ncO",
    "ExecuteTime": {
     "end_time": "2025-02-23T17:14:06.230613Z",
     "start_time": "2025-02-23T17:14:06.221582Z"
    }
   },
   "outputs": [
    {
     "name": "stdout",
     "output_type": "stream",
     "text": [
      "[('4700', '000'), ('1234', '567'), ('8541', '543'), ('4123', '974'), ('9481', '025')]\n"
     ]
    }
   ],
   "execution_count": 55
  }
 ]
}
